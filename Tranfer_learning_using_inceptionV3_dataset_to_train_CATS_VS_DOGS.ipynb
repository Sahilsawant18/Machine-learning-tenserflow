{
  "nbformat": 4,
  "nbformat_minor": 0,
  "metadata": {
    "colab": {
      "name": "Tranfer_learning_using_inceptionV3_dataset_to_train_CATS_VS_DOGS",
      "provenance": []
    },
    "kernelspec": {
      "name": "python3",
      "display_name": "Python 3"
    },
    "language_info": {
      "name": "python"
    },
    "accelerator": "GPU"
  },
  "cells": [
    {
      "cell_type": "markdown",
      "metadata": {
        "id": "nlO-Y0P_TV7s"
      },
      "source": [
        "TRANSFER LEARNING:\n",
        "\n",
        "The most common incarnation of transfer learning in the context of deep learning is the following workflow:\n",
        "\n",
        "1.Take layers from a previously trained model.\n",
        "2.Freeze them, so as to avoid destroying any of the information they contain during future training rounds.\n",
        "3.Add some new, trainable layers on top of the frozen layers. They will learn to turn the old features into predictions on a new dataset.\n",
        "4.Train the new layers on your dataset."
      ]
    },
    {
      "cell_type": "markdown",
      "metadata": {
        "id": "Vr8jgs4VUPod"
      },
      "source": [
        "FINE TUNING:\n",
        "\n",
        "A last, optional step, is fine-tuning, which consists of unfreezing the entire \n",
        "model you obtained above (or part of it), and re-training it on the new data with\n",
        "a very low learning rate. This can potentially achieve meaningful improvements,\n",
        "by incrementally adapting the pretrained features to the new data."
      ]
    },
    {
      "cell_type": "code",
      "metadata": {
        "colab": {
          "base_uri": "https://localhost:8080/"
        },
        "id": "vnPIq5TkXuSB",
        "outputId": "4711ea2c-b5a3-41af-a6b5-34c742de0518"
      },
      "source": [
        "pip install tensorflow.keras.applications.inception_v3"
      ],
      "execution_count": null,
      "outputs": [
        {
          "output_type": "stream",
          "name": "stdout",
          "text": [
            "\u001b[31mERROR: Could not find a version that satisfies the requirement tensorflow.keras.applications.inception_v3 (from versions: none)\u001b[0m\n",
            "\u001b[31mERROR: No matching distribution found for tensorflow.keras.applications.inception_v3\u001b[0m\n"
          ]
        }
      ]
    },
    {
      "cell_type": "code",
      "metadata": {
        "colab": {
          "base_uri": "https://localhost:8080/"
        },
        "id": "2zoyzyK7NJVf",
        "outputId": "b1c27a46-80c0-4b9e-8628-db279b8cb6dc"
      },
      "source": [
        "# https://keras.io/api/applications/inceptionv3/\n",
        "# Documentation for Inception_V3 (keras)\n",
        "\n",
        "import os\n",
        "\n",
        "\n",
        "import tensorflow as tf\n",
        "from tensorflow import keras\n",
        "from tensorflow.keras import layers\n",
        "from tensorflow.keras import Model\n",
        "\n",
        "\n",
        "!wget --no-check-certificate \\\n",
        "    https://storage.googleapis.com/mledu-datasets/inception_v3_weights_tf_dim_ordering_tf_kernels_notop.h5 \\\n",
        "    -O /tmp/inception_v3_weights_tf_dim_ordering_tf_kernels_notop.h5"
      ],
      "execution_count": null,
      "outputs": [
        {
          "output_type": "stream",
          "name": "stdout",
          "text": [
            "--2021-09-03 17:21:13--  https://storage.googleapis.com/mledu-datasets/inception_v3_weights_tf_dim_ordering_tf_kernels_notop.h5\n",
            "Resolving storage.googleapis.com (storage.googleapis.com)... 64.233.191.128, 173.194.74.128, 209.85.145.128, ...\n",
            "Connecting to storage.googleapis.com (storage.googleapis.com)|64.233.191.128|:443... connected.\n",
            "HTTP request sent, awaiting response... 200 OK\n",
            "Length: 87910968 (84M) [application/x-hdf]\n",
            "Saving to: ‘/tmp/inception_v3_weights_tf_dim_ordering_tf_kernels_notop.h5’\n",
            "\n",
            "/tmp/inception_v3_w 100%[===================>]  83.84M   162MB/s    in 0.5s    \n",
            "\n",
            "2021-09-03 17:21:13 (162 MB/s) - ‘/tmp/inception_v3_weights_tf_dim_ordering_tf_kernels_notop.h5’ saved [87910968/87910968]\n",
            "\n"
          ]
        }
      ]
    },
    {
      "cell_type": "code",
      "metadata": {
        "colab": {
          "base_uri": "https://localhost:8080/"
        },
        "id": "cGilw_nMNbry",
        "outputId": "a851bcdd-07ef-4c39-fa5c-e65fc7a8eda3"
      },
      "source": [
        "from tensorflow.keras.applications.inception_v3 import InceptionV3\n",
        "local_weights_file = '/tmp/inception_v3_weights_tf_dim_ordering_tf_kernels_notop.h5'\n",
        "\n",
        "pre_trained_model = InceptionV3(input_shape = (150, 150, 3), \n",
        "                                include_top = False, \n",
        "                                weights = None)\n",
        "# INCLUDE_TOP :  Boolean, whether to include the fully-connected layer at the top,\n",
        "# as the last layer of the network. Default to True.\n",
        "# INPUT_SHAPE : Optional shape tuple, only to be specified if include_top is False \n",
        "# (otherwise the input shape has to be (299, 299, 3) (with channels_last data format)\n",
        "# or (3, 299, 299) (with channels_first data format). It should have exactly 3 inputs \n",
        "# channels, and width and height should be no smaller than 75. E.g. \n",
        "# (150, 150, 3) would be one valid value. input_shape will be ignored if\n",
        "# the input_tensor is provided.\n",
        "# WEIGHTS : One of None (random initialization), imagenet (pre-training on ImageNet),\n",
        "# or the path to the weights file to be loaded. Default to imagenet.\n",
        "\n",
        "pre_trained_model.load_weights(local_weights_file)\n",
        "\n",
        "for layer in pre_trained_model.layers:\n",
        "  layer_trainable = False # The state of layers or say the state remains same \n",
        "\n",
        "# pre_trained_model.summary()\n",
        "\n",
        "last_layer = pre_trained_model.get_layer('mixed7')\n",
        "print('last layer output shape: ', last_layer.output_shape)\n",
        "last_output = last_layer.output"
      ],
      "execution_count": null,
      "outputs": [
        {
          "output_type": "stream",
          "name": "stdout",
          "text": [
            "last layer output shape:  (None, 7, 7, 768)\n"
          ]
        }
      ]
    },
    {
      "cell_type": "markdown",
      "metadata": {
        "id": "zF6aaFLEOY-7"
      },
      "source": [
        "Most of these models are a series of convolutional layers followed by one or a few dense (or fully connected) layers.\n",
        "\n",
        "Include_top lets you select if you want the final dense layers or not.\n",
        "\n",
        "the convolutional layers work as feature extractors. They identify a series of patterns in the image, and each layer can identify more elaborate patterns by seeing patterns of patterns.\n",
        "\n",
        "the dense layers are capable of interpreting the found patterns in order to classify: this image contains cats, dogs, cars, etc.\n",
        "\n",
        "About the weights:\n",
        "\n",
        "the weights in a convolutional layer are fixed-size. They are the size of the kernel x filters. Example: a 3x3 kernel of 10 filters. A convolutional layer doesn't care about the size of the input image. It just does the convolutions and present a resulting image based on the size of the input image. (Search for some illustrated tutorials about convolutions if this is unclear)\n",
        "\n",
        "now the weights in a dense layer are totally dependent on the input size. It's one weight per element of the input. So this demands that your input be always the same size, or else you won't have proper learned weights.\n",
        "\n",
        "Because of this, removing the final dense layers allows you to define the input size (see in documentation). (And the output size will increase/decrease accordingly).\n",
        "\n",
        "But you lose the interpretation/classification layers. (You can add your own, depending on your task)"
      ]
    },
    {
      "cell_type": "code",
      "metadata": {
        "id": "DHsZxD2jdLwV"
      },
      "source": [
        "from tensorflow.keras.optimizers import RMSprop\n",
        "\n",
        "x = layers.Flatten()(last_output)\n",
        "# Flatten the output layer to 1 dimension \n",
        "x = layers.Dense(1024, activation = 'relu')(x)\n",
        "# Add a fully connected layer with 1024 hidden units and RELU activation\n",
        "x = layers.Dropout(0.2)(x)\n",
        "# Add a Dropout rate of 0.2\n",
        "x = layers.Dense(1, activation = 'sigmoid')(x)\n",
        "# Add a final sigoid layer for cllasification\n",
        "\n",
        "model = Model( pre_trained_model.input, x)\n",
        "\n",
        "model.compile(optimizer = RMSprop(learning_rate = 0.0001),\n",
        "              loss = 'binary_crossentropy',\n",
        "              metrics = ['accuracy'])"
      ],
      "execution_count": null,
      "outputs": []
    },
    {
      "cell_type": "code",
      "metadata": {
        "colab": {
          "base_uri": "https://localhost:8080/"
        },
        "id": "ofAu6b6khp2w",
        "outputId": "b06752bb-287e-4f25-bf74-89b74e74dbc1"
      },
      "source": [
        "!gdown --id 1RL0T7Rg4XqQNRCkjfnLo4goOJQ7XZro9\n",
        "\n",
        "from tensorflow.keras.preprocessing.image import ImageDataGenerator\n",
        "\n",
        "import os\n",
        "import zipfile\n",
        "zip_ref = zipfile.ZipFile(\"./cats_and_dogs_filtered.zip\", 'r')\n",
        "zip_ref.extractall(\"tmp/\")\n",
        "zip_ref.close()\n",
        "\n",
        "# Define our example directories and files\n",
        "base_dir = 'tmp/cats_and_dogs_filtered'\n",
        "\n",
        "train_dir = os.path.join( base_dir, 'train')\n",
        "validation_dir = os.path.join( base_dir, 'validation')\n",
        "\n",
        "\n",
        "train_cats_dir = os.path.join(train_dir, 'cats') # Directory with our training cat pictures\n",
        "train_dogs_dir = os.path.join(train_dir, 'dogs') # Directory with our training dog pictures\n",
        "validation_cats_dir = os.path.join(validation_dir, 'cats') # Directory with our validation cat pictures\n",
        "validation_dogs_dir = os.path.join(validation_dir, 'dogs')# Directory with our validation dog pictures\n",
        "\n",
        "train_cat_fnames = os.listdir(train_cats_dir)\n",
        "train_dog_fnames = os.listdir(train_dogs_dir)\n",
        "\n",
        "# Adding data augmentation params to ImageDataGenarator\n",
        "train_datagen = ImageDataGenerator( rescale = 1./255,\n",
        "                                  rotation_range = 40,\n",
        "                                  width_shift_range = 0.2,\n",
        "                                  height_shift_range = 0.2,\n",
        "                                  shear_range = 0.2,\n",
        "                                  zoom_range = 0.2,\n",
        "                                  horizontal_flip = True\n",
        "                                  )\n",
        "\n",
        "# NOTE!!!! validation data should not be augmented!\n",
        "test_datagen = ImageDataGenerator( rescale = 1./255)\n",
        "\n",
        "# Flow training images in batches of 20 using train_datagen generator\n",
        "train_generator = train_datagen.flow_from_directory(\n",
        "    train_dir,\n",
        "    target_size = (150,150),\n",
        "    batch_size =  20,\n",
        "    class_mode = 'binary'\n",
        ")\n",
        "\n",
        "# Flow validation images in batches of 20 using test_datagen generator\n",
        "validation_generator = test_datagen.flow_from_directory(\n",
        "    validation_dir,\n",
        "    batch_size = 20,\n",
        "    target_size = (150,150),\n",
        "    class_mode = 'binary'\n",
        ")\n"
      ],
      "execution_count": null,
      "outputs": [
        {
          "output_type": "stream",
          "name": "stdout",
          "text": [
            "Downloading...\n",
            "From: https://drive.google.com/uc?id=1RL0T7Rg4XqQNRCkjfnLo4goOJQ7XZro9\n",
            "To: /content/cats_and_dogs_filtered.zip\n",
            "68.6MB [00:00, 146MB/s]\n",
            "Found 2000 images belonging to 2 classes.\n",
            "Found 1000 images belonging to 2 classes.\n"
          ]
        }
      ]
    },
    {
      "cell_type": "code",
      "metadata": {
        "colab": {
          "base_uri": "https://localhost:8080/"
        },
        "id": "dof2Y-0JkH4M",
        "outputId": "65445a2a-64ff-4103-8a01-d2c535ae21ea"
      },
      "source": [
        "history = model.fit(\n",
        "    train_generator,\n",
        "    validation_data = validation_generator,\n",
        "    steps_per_epoch = 100,\n",
        "    validation_steps = 50,\n",
        "    epochs = 20,\n",
        "    verbose = 2\n",
        ")"
      ],
      "execution_count": null,
      "outputs": [
        {
          "output_type": "stream",
          "name": "stdout",
          "text": [
            "Epoch 1/20\n",
            "100/100 - 27s - loss: 0.0678 - accuracy: 0.9770 - val_loss: 0.4547 - val_accuracy: 0.9600\n",
            "Epoch 2/20\n",
            "100/100 - 27s - loss: 0.0542 - accuracy: 0.9795 - val_loss: 1.5225 - val_accuracy: 0.9460\n",
            "Epoch 3/20\n",
            "100/100 - 27s - loss: 0.0837 - accuracy: 0.9790 - val_loss: 0.6812 - val_accuracy: 0.9510\n",
            "Epoch 4/20\n",
            "100/100 - 28s - loss: 0.0681 - accuracy: 0.9820 - val_loss: 46.9821 - val_accuracy: 0.8620\n",
            "Epoch 5/20\n",
            "100/100 - 28s - loss: 0.1034 - accuracy: 0.9790 - val_loss: 2.5634 - val_accuracy: 0.9510\n",
            "Epoch 6/20\n",
            "100/100 - 27s - loss: 0.0896 - accuracy: 0.9850 - val_loss: 2.2903 - val_accuracy: 0.9490\n",
            "Epoch 7/20\n",
            "100/100 - 27s - loss: 0.0422 - accuracy: 0.9845 - val_loss: 0.5377 - val_accuracy: 0.9630\n",
            "Epoch 8/20\n",
            "100/100 - 28s - loss: 0.0340 - accuracy: 0.9895 - val_loss: 0.4160 - val_accuracy: 0.9620\n",
            "Epoch 9/20\n",
            "100/100 - 28s - loss: 0.0364 - accuracy: 0.9900 - val_loss: 0.3957 - val_accuracy: 0.9590\n",
            "Epoch 10/20\n",
            "100/100 - 27s - loss: 0.0526 - accuracy: 0.9865 - val_loss: 0.8560 - val_accuracy: 0.9600\n",
            "Epoch 11/20\n",
            "100/100 - 28s - loss: 0.0440 - accuracy: 0.9830 - val_loss: 0.5333 - val_accuracy: 0.9440\n",
            "Epoch 12/20\n",
            "100/100 - 28s - loss: 0.0560 - accuracy: 0.9895 - val_loss: 0.2421 - val_accuracy: 0.9710\n",
            "Epoch 13/20\n",
            "100/100 - 28s - loss: 0.0621 - accuracy: 0.9860 - val_loss: 0.3632 - val_accuracy: 0.9540\n",
            "Epoch 14/20\n",
            "100/100 - 28s - loss: 0.0410 - accuracy: 0.9895 - val_loss: 0.3299 - val_accuracy: 0.9620\n",
            "Epoch 15/20\n",
            "100/100 - 27s - loss: 0.0435 - accuracy: 0.9890 - val_loss: 1.5146 - val_accuracy: 0.9590\n",
            "Epoch 16/20\n",
            "100/100 - 27s - loss: 0.0522 - accuracy: 0.9885 - val_loss: 0.4468 - val_accuracy: 0.9700\n",
            "Epoch 17/20\n",
            "100/100 - 27s - loss: 0.0582 - accuracy: 0.9835 - val_loss: 1.0014 - val_accuracy: 0.9510\n",
            "Epoch 18/20\n",
            "100/100 - 27s - loss: 0.0433 - accuracy: 0.9925 - val_loss: 4.5843 - val_accuracy: 0.9180\n",
            "Epoch 19/20\n",
            "100/100 - 28s - loss: 0.0733 - accuracy: 0.9890 - val_loss: 0.3432 - val_accuracy: 0.9680\n",
            "Epoch 20/20\n",
            "100/100 - 27s - loss: 0.0502 - accuracy: 0.9865 - val_loss: 2.6143 - val_accuracy: 0.9510\n"
          ]
        }
      ]
    },
    {
      "cell_type": "code",
      "metadata": {
        "colab": {
          "base_uri": "https://localhost:8080/",
          "height": 298
        },
        "id": "Gai7WKI7o_SZ",
        "outputId": "3d729890-176a-4f47-8ab7-d11953c6901b"
      },
      "source": [
        "import matplotlib.pyplot as plt\n",
        "acc = history.history['accuracy']\n",
        "val_acc = history.history['val_accuracy']\n",
        "loss = history.history['loss']\n",
        "val_loss = history.history['val_loss']\n",
        "\n",
        "epochs = range(len(acc))\n",
        "\n",
        "plt.plot(epochs, acc, 'r', label = \"Training Accuracy\")\n",
        "plt.plot(epochs, val_acc, 'r', label = \"Validation Accuracy\")\n",
        "plt.title('Training and Validation Accuracy')\n",
        "plt.legend(loc = 0)\n",
        "plt.figure()\n",
        "\n",
        "plt.show()"
      ],
      "execution_count": null,
      "outputs": [
        {
          "output_type": "display_data",
          "data": {
            "image/png": "[encoded data removed]",
            "text/plain": [
              "<Figure size 432x288 with 1 Axes>"
            ]
          },
          "metadata": {
            "needs_background": "light"
          }
        },
        {
          "output_type": "display_data",
          "data": {
            "text/plain": [
              "<Figure size 432x288 with 0 Axes>"
            ]
          },
          "metadata": {}
        }
      ]
    },
    {
      "cell_type": "code",
      "metadata": {
        "id": "ONZL2jR-tm30"
      },
      "source": [
        ""
      ],
      "execution_count": null,
      "outputs": []
    }
  ]
}